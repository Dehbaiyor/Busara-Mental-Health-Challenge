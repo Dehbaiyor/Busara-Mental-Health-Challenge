{
 "cells": [
  {
   "cell_type": "code",
   "execution_count": 1,
   "metadata": {
    "ExecuteTime": {
     "end_time": "2019-01-29T20:13:35.014290Z",
     "start_time": "2019-01-29T20:13:30.543919Z"
    }
   },
   "outputs": [],
   "source": [
    "import numpy as np\n",
    "import pandas as pd\n",
    "import matplotlib.pyplot as plt\n",
    "import seaborn as sns"
   ]
  },
  {
   "cell_type": "code",
   "execution_count": 2,
   "metadata": {
    "ExecuteTime": {
     "end_time": "2019-01-29T20:13:35.282181Z",
     "start_time": "2019-01-29T20:13:35.024376Z"
    }
   },
   "outputs": [],
   "source": [
    "train = pd.read_csv('train (1).csv')"
   ]
  },
  {
   "cell_type": "code",
   "execution_count": 3,
   "metadata": {
    "ExecuteTime": {
     "end_time": "2019-01-29T20:13:35.334174Z",
     "start_time": "2019-01-29T20:13:35.290181Z"
    }
   },
   "outputs": [],
   "source": [
    "joint=train"
   ]
  },
  {
   "cell_type": "code",
   "execution_count": 4,
   "metadata": {
    "ExecuteTime": {
     "end_time": "2019-01-29T20:13:35.654155Z",
     "start_time": "2019-01-29T20:13:35.342174Z"
    }
   },
   "outputs": [],
   "source": [
    "col_need=[]\n",
    "for col in joint.columns:\n",
    "    if joint[col].count()>int(0.7*len(joint)):\n",
    "        col_need.append(col)"
   ]
  },
  {
   "cell_type": "code",
   "execution_count": 5,
   "metadata": {
    "ExecuteTime": {
     "end_time": "2019-01-29T20:13:35.842143Z",
     "start_time": "2019-01-29T20:13:35.662157Z"
    }
   },
   "outputs": [],
   "source": [
    "joint=joint[col_need]"
   ]
  },
  {
   "cell_type": "code",
   "execution_count": 6,
   "metadata": {
    "ExecuteTime": {
     "end_time": "2019-01-29T20:13:36.130128Z",
     "start_time": "2019-01-29T20:13:35.850145Z"
    }
   },
   "outputs": [
    {
     "name": "stderr",
     "output_type": "stream",
     "text": [
      "C:\\Users\\ADEBAYO\\Anaconda3\\lib\\site-packages\\pandas\\core\\frame.py:3697: SettingWithCopyWarning: \n",
      "A value is trying to be set on a copy of a slice from a DataFrame\n",
      "\n",
      "See the caveats in the documentation: http://pandas.pydata.org/pandas-docs/stable/indexing.html#indexing-view-versus-copy\n",
      "  errors=errors)\n"
     ]
    }
   ],
   "source": [
    "col_un=['asset_niceroof','med_vacc_newborns','med_child_check',\n",
    "        'wage_expenditures','ent_wagelabor',\n",
    "        'fs_enoughtom','labor_primary',\n",
    "        'early_survey','day_of_week']\n",
    "\n",
    "joint.drop(col_un,axis=1,inplace=True)"
   ]
  },
  {
   "cell_type": "code",
   "execution_count": 7,
   "metadata": {
    "ExecuteTime": {
     "end_time": "2019-01-29T20:13:36.661858Z",
     "start_time": "2019-01-29T20:13:36.142125Z"
    }
   },
   "outputs": [],
   "source": [
    "from sklearn.preprocessing import Binarizer"
   ]
  },
  {
   "cell_type": "code",
   "execution_count": 8,
   "metadata": {
    "ExecuteTime": {
     "end_time": "2019-01-29T20:13:36.866228Z",
     "start_time": "2019-01-29T20:13:36.673959Z"
    }
   },
   "outputs": [
    {
     "name": "stderr",
     "output_type": "stream",
     "text": [
      "C:\\Users\\ADEBAYO\\Anaconda3\\lib\\site-packages\\ipykernel_launcher.py:2: SettingWithCopyWarning: \n",
      "A value is trying to be set on a copy of a slice from a DataFrame.\n",
      "Try using .loc[row_indexer,col_indexer] = value instead\n",
      "\n",
      "See the caveats in the documentation: http://pandas.pydata.org/pandas-docs/stable/indexing.html#indexing-view-versus-copy\n",
      "  \n"
     ]
    }
   ],
   "source": [
    "transformer = Binarizer(threshold=1.5).fit(joint['ent_employees'].values.reshape(-1,1)) # fit does nothing.\n",
    "joint['ent_employees_x']=transformer.transform(joint['ent_employees'].values.reshape(-1,1))"
   ]
  },
  {
   "cell_type": "code",
   "execution_count": 9,
   "metadata": {
    "ExecuteTime": {
     "end_time": "2019-01-29T20:13:37.208360Z",
     "start_time": "2019-01-29T20:13:36.878226Z"
    }
   },
   "outputs": [
    {
     "name": "stderr",
     "output_type": "stream",
     "text": [
      "C:\\Users\\ADEBAYO\\Anaconda3\\lib\\site-packages\\ipykernel_launcher.py:2: SettingWithCopyWarning: \n",
      "A value is trying to be set on a copy of a slice from a DataFrame.\n",
      "Try using .loc[row_indexer,col_indexer] = value instead\n",
      "\n",
      "See the caveats in the documentation: http://pandas.pydata.org/pandas-docs/stable/indexing.html#indexing-view-versus-copy\n",
      "  \n"
     ]
    },
    {
     "data": {
      "text/plain": [
       "0    1041\n",
       "1     102\n",
       "Name: children_bins, dtype: int64"
      ]
     },
     "execution_count": 9,
     "metadata": {},
     "output_type": "execute_result"
    }
   ],
   "source": [
    "transformer = Binarizer(threshold=5).fit(joint['children'].values.reshape(-1,1)) # fit does nothing.\n",
    "joint['children_bins']=transformer.transform(joint['children'].values.reshape(-1,1))\n",
    "joint['children_bins'].value_counts()"
   ]
  },
  {
   "cell_type": "code",
   "execution_count": 10,
   "metadata": {
    "ExecuteTime": {
     "end_time": "2019-01-29T20:13:37.728358Z",
     "start_time": "2019-01-29T20:13:37.232355Z"
    }
   },
   "outputs": [
    {
     "name": "stderr",
     "output_type": "stream",
     "text": [
      "C:\\Users\\ADEBAYO\\Anaconda3\\lib\\site-packages\\pandas\\core\\generic.py:5434: SettingWithCopyWarning: \n",
      "A value is trying to be set on a copy of a slice from a DataFrame\n",
      "\n",
      "See the caveats in the documentation: http://pandas.pydata.org/pandas-docs/stable/indexing.html#indexing-view-versus-copy\n",
      "  self._update_inplace(new_data)\n",
      "C:\\Users\\ADEBAYO\\Anaconda3\\lib\\site-packages\\pandas\\core\\frame.py:3790: SettingWithCopyWarning: \n",
      "A value is trying to be set on a copy of a slice from a DataFrame\n",
      "\n",
      "See the caveats in the documentation: http://pandas.pydata.org/pandas-docs/stable/indexing.html#indexing-view-versus-copy\n",
      "  downcast=downcast, **kwargs)\n"
     ]
    }
   ],
   "source": [
    "joint['fs_sleephun'].fillna(0,inplace=True)\n",
    "joint['age'].fillna(joint['age'].mean(),inplace=True)\n",
    "joint.fillna(0,inplace=True)"
   ]
  },
  {
   "cell_type": "code",
   "execution_count": 11,
   "metadata": {
    "ExecuteTime": {
     "end_time": "2019-01-29T20:13:37.890344Z",
     "start_time": "2019-01-29T20:13:37.740357Z"
    }
   },
   "outputs": [],
   "source": [
    "joint=joint.drop(['depressed','village','surveyid','survey_date'],axis=1)"
   ]
  },
  {
   "cell_type": "code",
   "execution_count": 12,
   "metadata": {
    "ExecuteTime": {
     "end_time": "2019-01-29T20:13:38.178328Z",
     "start_time": "2019-01-29T20:13:37.902347Z"
    }
   },
   "outputs": [
    {
     "name": "stdout",
     "output_type": "stream",
     "text": [
      "(1143, 49)\n",
      "Reduced shape:\n",
      "(1143, 40)\n"
     ]
    }
   ],
   "source": [
    "import sklearn.feature_selection as fs\n",
    "\n",
    "print(joint.shape)\n",
    "\n",
    "## Define the variance threhold and fit the threshold to the feature array. \n",
    "sel = fs.VarianceThreshold(threshold=(.8 * (1 - .8)))\n",
    "features_reduced = sel.fit_transform(joint)\n",
    "\n",
    "## Print the support and shape for the transformed features\n",
    "print('Reduced shape:')\n",
    "print(features_reduced.shape)"
   ]
  },
  {
   "cell_type": "code",
   "execution_count": 13,
   "metadata": {
    "ExecuteTime": {
     "end_time": "2019-01-29T20:13:38.258326Z",
     "start_time": "2019-01-29T20:13:38.190331Z"
    }
   },
   "outputs": [
    {
     "name": "stdout",
     "output_type": "stream",
     "text": [
      "Index(['age', 'married', 'children', 'hhsize', 'edu', 'hh_children',\n",
      "       'hh_totalmembers', 'cons_nondurable', 'asset_livestock',\n",
      "       'asset_durable', 'asset_phone', 'asset_savings',\n",
      "       'asset_land_owned_total', 'cons_allfood', 'cons_ownfood',\n",
      "       'cons_alcohol', 'cons_tobacco', 'cons_med_total', 'cons_ed',\n",
      "       'cons_social', 'cons_other', 'ent_ownfarm', 'ent_nonagbusiness',\n",
      "       'ent_nonag_revenue', 'ent_nonag_flowcost', 'ent_farmrevenue',\n",
      "       'ent_farmexpenses', 'ent_animalstockrev', 'ent_total_cost',\n",
      "       'fs_adskipm_often', 'fs_adwholed_often', 'fs_meat', 'fs_sleephun',\n",
      "       'med_sickdays_hhave', 'durable_investment', 'nondurable_investment',\n",
      "       'amount_given_mpesa', 'amount_received_mpesa', 'net_mpesa',\n",
      "       'amount_saved_mpesa'],\n",
      "      dtype='object')\n"
     ]
    }
   ],
   "source": [
    "print(joint.columns[sel.get_support()])"
   ]
  },
  {
   "cell_type": "code",
   "execution_count": 14,
   "metadata": {
    "ExecuteTime": {
     "end_time": "2019-01-29T20:13:38.610301Z",
     "start_time": "2019-01-29T20:13:38.270322Z"
    }
   },
   "outputs": [
    {
     "name": "stdout",
     "output_type": "stream",
     "text": [
      "(1143, 40)\n",
      "['hhsize', 'hh_totalmembers', 'cons_allfood', 'ent_total_cost', 'net_mpesa']\n",
      "(1143, 35)\n"
     ]
    }
   ],
   "source": [
    "print(features_reduced.shape)\n",
    "\n",
    "# Create correlation matrix\n",
    "corr_matrix = pd.DataFrame(features_reduced,columns=joint.columns[sel.get_support()]).corr().abs()\n",
    "\n",
    "# Select upper triangle of correlation matrix\n",
    "upper = corr_matrix.where(np.triu(np.ones(corr_matrix.shape), k=1).astype(np.bool))\n",
    "\n",
    "# Find index of feature columns with correlation greater than 0.90\n",
    "to_drop = [column for column in upper.columns if any(upper[column] > 0.90)]\n",
    "\n",
    "feature_mat=pd.DataFrame(features_reduced,columns=joint.columns[sel.get_support()]).drop(to_drop,axis=1)\n",
    "\n",
    "print(to_drop)\n",
    "print(feature_mat.shape)"
   ]
  },
  {
   "cell_type": "markdown",
   "metadata": {},
   "source": [
    "Applying PCA to reduce dimensionality. Note that the features have to be scaled first."
   ]
  },
  {
   "cell_type": "code",
   "execution_count": 15,
   "metadata": {
    "ExecuteTime": {
     "end_time": "2019-01-29T20:13:38.650297Z",
     "start_time": "2019-01-29T20:13:38.638305Z"
    }
   },
   "outputs": [],
   "source": [
    "from sklearn.preprocessing import StandardScaler"
   ]
  },
  {
   "cell_type": "code",
   "execution_count": 16,
   "metadata": {
    "ExecuteTime": {
     "end_time": "2019-01-29T20:13:38.848415Z",
     "start_time": "2019-01-29T20:13:38.662302Z"
    }
   },
   "outputs": [
    {
     "data": {
      "text/plain": [
       "array([[-0.47591917,  0.54263315,  0.61749574, ..., -0.08532784,\n",
       "        -0.14292614, -0.11537196],\n",
       "       [-0.83992367,  0.54263315,  0.0758245 , ..., -0.08532784,\n",
       "         0.04972078, -0.11537196],\n",
       "       [-0.91272457,  0.54263315,  0.0758245 , ..., -0.08532784,\n",
       "         0.17815203, -0.11537196],\n",
       "       ...,\n",
       "       [-0.47591917,  0.54263315,  1.15916698, ..., -0.08532784,\n",
       "        -0.14292614, -0.11537196],\n",
       "       [-0.11191467, -1.84286566,  0.61749574, ..., -0.08532784,\n",
       "        -0.14292614, -0.11537196],\n",
       "       [ 0.32489074,  0.54263315, -1.54918924, ..., -0.08532784,\n",
       "        -0.14292614, -0.11537196]])"
      ]
     },
     "execution_count": 16,
     "metadata": {},
     "output_type": "execute_result"
    }
   ],
   "source": [
    "scaler=StandardScaler()\n",
    "scaler.fit_transform(feature_mat)"
   ]
  },
  {
   "cell_type": "code",
   "execution_count": 17,
   "metadata": {
    "ExecuteTime": {
     "end_time": "2019-01-29T20:13:39.124407Z",
     "start_time": "2019-01-29T20:13:38.872414Z"
    }
   },
   "outputs": [],
   "source": [
    "from sklearn.decomposition import PCA"
   ]
  },
  {
   "cell_type": "code",
   "execution_count": 18,
   "metadata": {
    "ExecuteTime": {
     "end_time": "2019-01-29T20:13:40.174156Z",
     "start_time": "2019-01-29T20:13:39.136409Z"
    }
   },
   "outputs": [
    {
     "data": {
      "image/png": "[encoded data removed]",
      "text/plain": [
       "<matplotlib.figure.Figure at 0x1521bf11748>"
      ]
     },
     "metadata": {
      "needs_background": "light"
     },
     "output_type": "display_data"
    }
   ],
   "source": [
    "pca=PCA(30).fit(feature_mat)\n",
    "plt.figure(figsize=(10,5))\n",
    "for i in range(0,len(pca.explained_variance_ratio_)):\n",
    "    plt.scatter(y=pca.explained_variance_ratio_[i:].sum(),x=i)\n",
    "    plt.xlabel('Number of Principal Components')\n",
    "    plt.ylabel('Unexplained Variance Ratio')"
   ]
  },
  {
   "cell_type": "code",
   "execution_count": 19,
   "metadata": {
    "ExecuteTime": {
     "end_time": "2019-01-29T20:13:40.330150Z",
     "start_time": "2019-01-29T20:13:40.194158Z"
    },
    "scrolled": true
   },
   "outputs": [
    {
     "data": {
      "text/plain": [
       "(1143, 5)"
      ]
     },
     "execution_count": 19,
     "metadata": {},
     "output_type": "execute_result"
    }
   ],
   "source": [
    "join=PCA(5).fit_transform(feature_mat)\n",
    "join.shape"
   ]
  },
  {
   "cell_type": "code",
   "execution_count": 20,
   "metadata": {
    "ExecuteTime": {
     "end_time": "2019-01-29T20:13:40.402146Z",
     "start_time": "2019-01-29T20:13:40.342148Z"
    }
   },
   "outputs": [],
   "source": [
    "X=feature_mat[:]\n",
    "Y=train['depressed'].ravel()\n",
    "\n",
    "\n",
    "split_test_size=.4\n",
    "\n",
    "from sklearn.model_selection import train_test_split\n",
    "Xtrain, Xtest, Ytrain, Ytest= train_test_split(X,Y, test_size=split_test_size, random_state=50)"
   ]
  },
  {
   "cell_type": "markdown",
   "metadata": {},
   "source": [
    "Using SMOTE to balanced out the dataset"
   ]
  },
  {
   "cell_type": "code",
   "execution_count": 21,
   "metadata": {
    "ExecuteTime": {
     "end_time": "2019-01-29T20:13:40.925802Z",
     "start_time": "2019-01-29T20:13:40.414141Z"
    }
   },
   "outputs": [],
   "source": [
    "from imblearn.over_sampling import SMOTE"
   ]
  },
  {
   "cell_type": "code",
   "execution_count": 22,
   "metadata": {
    "ExecuteTime": {
     "end_time": "2019-01-29T20:13:40.973764Z",
     "start_time": "2019-01-29T20:13:40.925802Z"
    }
   },
   "outputs": [],
   "source": [
    "sm = SMOTE(random_state=12,sampling_strategy=.5)\n",
    "Xtrain, Ytrain = sm.fit_sample(Xtrain, Ytrain)"
   ]
  },
  {
   "cell_type": "code",
   "execution_count": 23,
   "metadata": {
    "ExecuteTime": {
     "end_time": "2019-01-29T20:13:41.209464Z",
     "start_time": "2019-01-29T20:13:40.989765Z"
    }
   },
   "outputs": [],
   "source": [
    "from sklearn.preprocessing import StandardScaler"
   ]
  },
  {
   "cell_type": "code",
   "execution_count": 24,
   "metadata": {
    "ExecuteTime": {
     "end_time": "2019-01-29T20:13:41.441446Z",
     "start_time": "2019-01-29T20:13:41.221467Z"
    },
    "scrolled": false
   },
   "outputs": [],
   "source": [
    "scaler=StandardScaler().fit(Xtrain)\n",
    "Xtrain=scaler.transform(Xtrain)\n",
    "Xtest=scaler.transform(Xtest)"
   ]
  },
  {
   "cell_type": "code",
   "execution_count": 25,
   "metadata": {
    "ExecuteTime": {
     "end_time": "2019-01-29T20:13:43.610960Z",
     "start_time": "2019-01-29T20:13:41.461450Z"
    }
   },
   "outputs": [],
   "source": [
    "from catboost import CatBoostClassifier"
   ]
  },
  {
   "cell_type": "code",
   "execution_count": 26,
   "metadata": {
    "ExecuteTime": {
     "end_time": "2019-01-29T20:14:11.195598Z",
     "start_time": "2019-01-29T20:13:43.610960Z"
    }
   },
   "outputs": [
    {
     "name": "stdout",
     "output_type": "stream",
     "text": [
      "0:\tlearn: 0.7010551\ttest: 0.8209607\tbest: 0.8209607 (0)\ttotal: 190ms\tremaining: 3m 9s\n",
      "50:\tlearn: 0.8182884\ttest: 0.8275109\tbest: 0.8318777 (22)\ttotal: 4.57s\tremaining: 1m 25s\n",
      "100:\tlearn: 0.8581477\ttest: 0.8318777\tbest: 0.8340611 (57)\ttotal: 8.8s\tremaining: 1m 18s\n",
      "150:\tlearn: 0.8722157\ttest: 0.8384279\tbest: 0.8384279 (143)\ttotal: 13.4s\tremaining: 1m 15s\n",
      "200:\tlearn: 0.8874560\ttest: 0.8362445\tbest: 0.8384279 (143)\ttotal: 18s\tremaining: 1m 11s\n",
      "Stopped by overfitting detector  (100 iterations wait)\n",
      "\n",
      "bestTest = 0.8384279476\n",
      "bestIteration = 143\n",
      "\n",
      "Shrink model to first 144 iterations.\n"
     ]
    }
   ],
   "source": [
    "cb=CatBoostClassifier(iterations=1000,depth=4,eval_metric='Accuracy',\n",
    "                    random_seed=10,learning_rate=.05).fit(Xtrain,Ytrain,eval_set=(Xtest,Ytest),verbose=50,\n",
    "                                                          early_stopping_rounds=100,use_best_model=True)"
   ]
  },
  {
   "cell_type": "code",
   "execution_count": 27,
   "metadata": {
    "ExecuteTime": {
     "end_time": "2019-01-29T20:14:11.233382Z",
     "start_time": "2019-01-29T20:14:11.195598Z"
    }
   },
   "outputs": [
    {
     "name": "stdout",
     "output_type": "stream",
     "text": [
      "Base accuracy for training set is: 0.6670574443141852\n",
      "Base accuracy for validation set is: 0.8318777292576419\n"
     ]
    }
   ],
   "source": [
    "print('Base accuracy for training set is:', 1-Ytrain.mean())\n",
    "print('Base accuracy for validation set is:',1 - Ytest.mean())"
   ]
  },
  {
   "cell_type": "code",
   "execution_count": 28,
   "metadata": {
    "ExecuteTime": {
     "end_time": "2019-01-29T20:14:11.919124Z",
     "start_time": "2019-01-29T20:14:11.233382Z"
    }
   },
   "outputs": [],
   "source": [
    "from sklearn.metrics import confusion_matrix,balanced_accuracy_score"
   ]
  },
  {
   "cell_type": "code",
   "execution_count": 29,
   "metadata": {
    "ExecuteTime": {
     "end_time": "2019-01-29T20:14:12.485456Z",
     "start_time": "2019-01-29T20:14:11.931123Z"
    }
   },
   "outputs": [
    {
     "data": {
      "text/plain": [
       "0.8384279475982532"
      ]
     },
     "execution_count": 29,
     "metadata": {},
     "output_type": "execute_result"
    }
   ],
   "source": [
    "cb.score(Xtest,Ytest)"
   ]
  },
  {
   "cell_type": "code",
   "execution_count": 30,
   "metadata": {
    "ExecuteTime": {
     "end_time": "2019-01-29T20:14:12.947688Z",
     "start_time": "2019-01-29T20:14:12.501527Z"
    }
   },
   "outputs": [
    {
     "data": {
      "text/plain": [
       "array([[380,   1],\n",
       "       [ 73,   4]], dtype=int64)"
      ]
     },
     "execution_count": 30,
     "metadata": {},
     "output_type": "execute_result"
    }
   ],
   "source": [
    "confusion_matrix(Ytest,cb.predict(Xtest))"
   ]
  },
  {
   "cell_type": "code",
   "execution_count": 31,
   "metadata": {
    "ExecuteTime": {
     "end_time": "2019-01-29T20:14:13.311668Z",
     "start_time": "2019-01-29T20:14:12.963684Z"
    },
    "scrolled": false
   },
   "outputs": [
    {
     "name": "stdout",
     "output_type": "stream",
     "text": [
      "0.5246616900160207\n"
     ]
    }
   ],
   "source": [
    "print(balanced_accuracy_score(Ytest,cb.predict(Xtest)))"
   ]
  },
  {
   "cell_type": "markdown",
   "metadata": {},
   "source": [
    "Classifier is better than random guessing but not by too much. The data is not only imbalanced, it is very noisy too. Furthermore, accuracy isnt the best metric to optimize for in problems like this. In real life, we might want to be biased a little towards the minority set as this usually our focus."
   ]
  }
 ],
 "metadata": {
  "hide_input": false,
  "kernelspec": {
   "display_name": "Python 3",
   "language": "python",
   "name": "python3"
  },
  "language_info": {
   "codemirror_mode": {
    "name": "ipython",
    "version": 3
   },
   "file_extension": ".py",
   "mimetype": "text/x-python",
   "name": "python",
   "nbconvert_exporter": "python",
   "pygments_lexer": "ipython3",
   "version": "3.6.4"
  },
  "toc": {
   "base_numbering": 1,
   "nav_menu": {
    "height": "40px",
    "width": "207px"
   },
   "number_sections": true,
   "sideBar": true,
   "skip_h1_title": false,
   "title_cell": "Table of Contents",
   "title_sidebar": "Contents",
   "toc_cell": false,
   "toc_position": {},
   "toc_section_display": true,
   "toc_window_display": false
  },
  "varInspector": {
   "cols": {
    "lenName": 16,
    "lenType": 16,
    "lenVar": 40
   },
   "kernels_config": {
    "python": {
     "delete_cmd_postfix": "",
     "delete_cmd_prefix": "del ",
     "library": "var_list.py",
     "varRefreshCmd": "print(var_dic_list())"
    },
    "r": {
     "delete_cmd_postfix": ") ",
     "delete_cmd_prefix": "rm(",
     "library": "var_list.r",
     "varRefreshCmd": "cat(var_dic_list()) "
    }
   },
   "oldHeight": 269.77778,
   "position": {
    "height": "40px",
    "left": "647px",
    "right": "20px",
    "top": "112px",
    "width": "686px"
   },
   "types_to_exclude": [
    "module",
    "function",
    "builtin_function_or_method",
    "instance",
    "_Feature"
   ],
   "varInspector_section_display": "none",
   "window_display": false
  }
 },
 "nbformat": 4,
 "nbformat_minor": 2
}
